{
 "cells": [
  {
   "cell_type": "code",
   "execution_count": 1,
   "metadata": {},
   "outputs": [],
   "source": [
    "import sys\n",
    "sys.path.append('../evapo_scripts/Auxiliary/')\n",
    "from helpsters import *"
   ]
  },
  {
   "cell_type": "code",
   "execution_count": 7,
   "metadata": {},
   "outputs": [],
   "source": [
    "# workaround with relative path mess from containers\n",
    "os.chdir('/data/Aldhani/eoagritwin/')\n",
    "# get rid of force output that is not needed -> months outside of growing season that do not exist in AI4Boundaries\n",
    "files = getFilelist('force/output/BRANDENBURG/', '.tif', deep=True)\n",
    "\n",
    "filesToKill = [f for f in files if int(f.split('-')[-1].split('.')[0]) not in [i for i in range(3,9,1)]]\n",
    "for file in filesToKill:\n",
    "    RasterKiller(file)\n",
    "\n",
    "files = list(filter(lambda item: item not in filesToKill, files))"
   ]
  },
  {
   "cell_type": "code",
   "execution_count": 8,
   "metadata": {},
   "outputs": [
    {
     "ename": "ValueError",
     "evalue": "invalid literal for int() with base 10: 'Cube'",
     "output_type": "error",
     "traceback": [
      "\u001b[0;31m---------------------------------------------------------------------------\u001b[0m",
      "\u001b[0;31mValueError\u001b[0m                                Traceback (most recent call last)",
      "Cell \u001b[0;32mIn[8], line 14\u001b[0m\n\u001b[1;32m     11\u001b[0m     vrt \u001b[38;5;241m=\u001b[39m \u001b[38;5;28;01mNone\u001b[39;00m\n\u001b[1;32m     13\u001b[0m vrts \u001b[38;5;241m=\u001b[39m getFilelist(\u001b[38;5;124m'\u001b[39m\u001b[38;5;124mfields/Auxiliary/vrt/\u001b[39m\u001b[38;5;124m'\u001b[39m, \u001b[38;5;124m'\u001b[39m\u001b[38;5;124m.vrt\u001b[39m\u001b[38;5;124m'\u001b[39m)\n\u001b[0;32m---> 14\u001b[0m nums \u001b[38;5;241m=\u001b[39m [\u001b[38;5;28;43mint\u001b[39;49m\u001b[43m(\u001b[49m\u001b[43mvrt\u001b[49m\u001b[38;5;241;43m.\u001b[39;49m\u001b[43msplit\u001b[49m\u001b[43m(\u001b[49m\u001b[38;5;124;43m'\u001b[39;49m\u001b[38;5;124;43m_\u001b[39;49m\u001b[38;5;124;43m'\u001b[39;49m\u001b[43m)\u001b[49m\u001b[43m[\u001b[49m\u001b[38;5;241;43m-\u001b[39;49m\u001b[38;5;241;43m1\u001b[39;49m\u001b[43m]\u001b[49m\u001b[38;5;241;43m.\u001b[39;49m\u001b[43msplit\u001b[49m\u001b[43m(\u001b[49m\u001b[38;5;124;43m'\u001b[39;49m\u001b[38;5;124;43m.\u001b[39;49m\u001b[38;5;124;43m'\u001b[39;49m\u001b[43m)\u001b[49m\u001b[43m[\u001b[49m\u001b[38;5;241;43m0\u001b[39;49m\u001b[43m]\u001b[49m\u001b[43m)\u001b[49m \u001b[38;5;28;01mfor\u001b[39;00m vrt \u001b[38;5;129;01min\u001b[39;00m vrts]\n\u001b[1;32m     15\u001b[0m vrts_sorted \u001b[38;5;241m=\u001b[39m sortListwithOtherlist(nums, vrts)\n\u001b[1;32m     17\u001b[0m vrt \u001b[38;5;241m=\u001b[39m gdal\u001b[38;5;241m.\u001b[39mBuildVRT(\u001b[38;5;124mf\u001b[39m\u001b[38;5;124m'\u001b[39m\u001b[38;5;124mfields/Auxiliary/vrt/\u001b[39m\u001b[38;5;132;01m{\u001b[39;00mgetFORCExyRange(tiles)\u001b[38;5;132;01m}\u001b[39;00m\u001b[38;5;124m_Cube.vrt\u001b[39m\u001b[38;5;124m'\u001b[39m, vrts_sorted, separate \u001b[38;5;241m=\u001b[39m \u001b[38;5;28;01mTrue\u001b[39;00m)\n",
      "\u001b[0;31mValueError\u001b[0m: invalid literal for int() with base 10: 'Cube'"
     ]
    }
   ],
   "source": [
    "# bring files in list in order\n",
    "tiles = list(set([file.split('output/')[-1].split('/')[1].split('/')[0] for file in files]))\n",
    "tilefilesL = []\n",
    "for tile in tiles:\n",
    "    tilefiles = [file for file in files if tile in file]\n",
    "    tilefilesL.append(getBluGrnRedBnrFORCEList(tilefiles))\n",
    "\n",
    "# create stacked vrts of tiles\n",
    "for i in range(len(tilefilesL[0])):\n",
    "    vrt = gdal.BuildVRT(f'fields/Auxiliary/vrt/{getFORCExyRange(tiles)}_{str(i)}.vrt', [tilefilesL[0][i], tilefilesL[1][i]], separate = False)\n",
    "    vrt = None\n",
    "\n",
    "vrts = getFilelist('fields/Auxiliary/vrt/', '.vrt')\n",
    "nums = [int(vrt.split('_')[-1].split('.')[0]) for vrt in vrts]\n",
    "vrts_sorted = sortListwithOtherlist(nums, vrts)\n",
    "\n",
    "vrt = gdal.BuildVRT(f'fields/Auxiliary/vrt/{getFORCExyRange(tiles)}_Cube.vrt', vrts_sorted, separate = True)\n",
    "vrt = None"
   ]
  },
  {
   "cell_type": "code",
   "execution_count": null,
   "metadata": {},
   "outputs": [],
   "source": [
    "chips = getFilelist('/data/Aldhani/eoagritwin/fields/output/predictions/FORCE/chips/', '.tif')\n",
    "\n",
    "# create stacked vrts of tiles\n",
    "vrt = gdal.BuildVRT('/data/Aldhani/eoagritwin/fields/Auxiliary/vrt/chipsvrt.vrt', chips, separate = False)\n",
    "vrt = None\n"
   ]
  },
  {
   "cell_type": "code",
   "execution_count": null,
   "metadata": {},
   "outputs": [
    {
     "data": {
      "text/plain": [
       "['fields/output/predictions/FORCE/chips/X_0_Y_0.tif',\n",
       " 'fields/output/predictions/FORCE/chips/X_0_Y_1476.tif',\n",
       " 'fields/output/predictions/FORCE/chips/X_0_Y_1968.tif',\n",
       " 'fields/output/predictions/FORCE/chips/X_0_Y_2460.tif',\n",
       " 'fields/output/predictions/FORCE/chips/X_0_Y_492.tif',\n",
       " 'fields/output/predictions/FORCE/chips/X_0_Y_984.tif',\n",
       " 'fields/output/predictions/FORCE/chips/X_1476_Y_0.tif',\n",
       " 'fields/output/predictions/FORCE/chips/X_1476_Y_1476.tif',\n",
       " 'fields/output/predictions/FORCE/chips/X_1476_Y_1968.tif',\n",
       " 'fields/output/predictions/FORCE/chips/X_1476_Y_2460.tif',\n",
       " 'fields/output/predictions/FORCE/chips/X_1476_Y_492.tif',\n",
       " 'fields/output/predictions/FORCE/chips/X_1476_Y_984.tif',\n",
       " 'fields/output/predictions/FORCE/chips/X_1968_Y_0.tif',\n",
       " 'fields/output/predictions/FORCE/chips/X_1968_Y_1476.tif',\n",
       " 'fields/output/predictions/FORCE/chips/X_1968_Y_1968.tif',\n",
       " 'fields/output/predictions/FORCE/chips/X_1968_Y_2460.tif',\n",
       " 'fields/output/predictions/FORCE/chips/X_1968_Y_492.tif',\n",
       " 'fields/output/predictions/FORCE/chips/X_1968_Y_984.tif',\n",
       " 'fields/output/predictions/FORCE/chips/X_2460_Y_0.tif',\n",
       " 'fields/output/predictions/FORCE/chips/X_2460_Y_1476.tif',\n",
       " 'fields/output/predictions/FORCE/chips/X_2460_Y_1968.tif',\n",
       " 'fields/output/predictions/FORCE/chips/X_2460_Y_2460.tif',\n",
       " 'fields/output/predictions/FORCE/chips/X_2460_Y_492.tif',\n",
       " 'fields/output/predictions/FORCE/chips/X_2460_Y_984.tif',\n",
       " 'fields/output/predictions/FORCE/chips/X_2952_Y_0.tif',\n",
       " 'fields/output/predictions/FORCE/chips/X_2952_Y_1476.tif',\n",
       " 'fields/output/predictions/FORCE/chips/X_2952_Y_1968.tif',\n",
       " 'fields/output/predictions/FORCE/chips/X_2952_Y_2460.tif',\n",
       " 'fields/output/predictions/FORCE/chips/X_2952_Y_492.tif',\n",
       " 'fields/output/predictions/FORCE/chips/X_2952_Y_984.tif',\n",
       " 'fields/output/predictions/FORCE/chips/X_3444_Y_0.tif',\n",
       " 'fields/output/predictions/FORCE/chips/X_3444_Y_1476.tif',\n",
       " 'fields/output/predictions/FORCE/chips/X_3444_Y_1968.tif',\n",
       " 'fields/output/predictions/FORCE/chips/X_3444_Y_2460.tif',\n",
       " 'fields/output/predictions/FORCE/chips/X_3444_Y_492.tif',\n",
       " 'fields/output/predictions/FORCE/chips/X_3444_Y_984.tif',\n",
       " 'fields/output/predictions/FORCE/chips/X_3936_Y_0.tif',\n",
       " 'fields/output/predictions/FORCE/chips/X_3936_Y_1476.tif',\n",
       " 'fields/output/predictions/FORCE/chips/X_3936_Y_1968.tif',\n",
       " 'fields/output/predictions/FORCE/chips/X_3936_Y_2460.tif',\n",
       " 'fields/output/predictions/FORCE/chips/X_3936_Y_492.tif',\n",
       " 'fields/output/predictions/FORCE/chips/X_3936_Y_984.tif',\n",
       " 'fields/output/predictions/FORCE/chips/X_4428_Y_0.tif',\n",
       " 'fields/output/predictions/FORCE/chips/X_4428_Y_1476.tif',\n",
       " 'fields/output/predictions/FORCE/chips/X_4428_Y_1968.tif',\n",
       " 'fields/output/predictions/FORCE/chips/X_4428_Y_2460.tif',\n",
       " 'fields/output/predictions/FORCE/chips/X_4428_Y_492.tif',\n",
       " 'fields/output/predictions/FORCE/chips/X_4428_Y_984.tif',\n",
       " 'fields/output/predictions/FORCE/chips/X_4920_Y_0.tif',\n",
       " 'fields/output/predictions/FORCE/chips/X_4920_Y_1476.tif',\n",
       " 'fields/output/predictions/FORCE/chips/X_4920_Y_1968.tif',\n",
       " 'fields/output/predictions/FORCE/chips/X_4920_Y_2460.tif',\n",
       " 'fields/output/predictions/FORCE/chips/X_4920_Y_492.tif',\n",
       " 'fields/output/predictions/FORCE/chips/X_4920_Y_984.tif',\n",
       " 'fields/output/predictions/FORCE/chips/X_492_Y_0.tif',\n",
       " 'fields/output/predictions/FORCE/chips/X_492_Y_1476.tif',\n",
       " 'fields/output/predictions/FORCE/chips/X_492_Y_1968.tif',\n",
       " 'fields/output/predictions/FORCE/chips/X_492_Y_2460.tif',\n",
       " 'fields/output/predictions/FORCE/chips/X_492_Y_492.tif',\n",
       " 'fields/output/predictions/FORCE/chips/X_492_Y_984.tif',\n",
       " 'fields/output/predictions/FORCE/chips/X_5412_Y_0.tif',\n",
       " 'fields/output/predictions/FORCE/chips/X_5412_Y_1476.tif',\n",
       " 'fields/output/predictions/FORCE/chips/X_5412_Y_1968.tif',\n",
       " 'fields/output/predictions/FORCE/chips/X_5412_Y_2460.tif',\n",
       " 'fields/output/predictions/FORCE/chips/X_5412_Y_492.tif',\n",
       " 'fields/output/predictions/FORCE/chips/X_5412_Y_984.tif',\n",
       " 'fields/output/predictions/FORCE/chips/X_984_Y_0.tif',\n",
       " 'fields/output/predictions/FORCE/chips/X_984_Y_1476.tif',\n",
       " 'fields/output/predictions/FORCE/chips/X_984_Y_1968.tif',\n",
       " 'fields/output/predictions/FORCE/chips/X_984_Y_2460.tif',\n",
       " 'fields/output/predictions/FORCE/chips/X_984_Y_492.tif',\n",
       " 'fields/output/predictions/FORCE/chips/X_984_Y_984.tif']"
      ]
     },
     "execution_count": 3,
     "metadata": {},
     "output_type": "execute_result"
    }
   ],
   "source": [
    "# mask vrt\n",
    "ds = gdal.Open('/data/Aldhani/eoagritwin/fields/IACS/Auxiliary/mask_crop.tif')\n",
    "mask = ds.GetRasterBand(1).ReadAsArray()\n",
    "\n",
    "ds = gdal.Open('/data/Aldhani/eoagritwin/fields/Auxiliary/vrt/chipsvrt.vrt')\n",
    "pred = []\n",
    "for i in range(ds.RasterCount):\n",
    "    pred.append(ds.GetRasterBand(i + 1).ReadAsArray())\n",
    "\n",
    "pred = np.dstack(pred)\n",
    "\n"
   ]
  }
 ],
 "metadata": {
  "kernelspec": {
   "display_name": "evapo_sentinelhub",
   "language": "python",
   "name": "python3"
  },
  "language_info": {
   "codemirror_mode": {
    "name": "ipython",
    "version": 3
   },
   "file_extension": ".py",
   "mimetype": "text/x-python",
   "name": "python",
   "nbconvert_exporter": "python",
   "pygments_lexer": "ipython3",
   "version": "3.13.2"
  }
 },
 "nbformat": 4,
 "nbformat_minor": 2
}
