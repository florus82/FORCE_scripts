{
 "cells": [
  {
   "cell_type": "code",
   "execution_count": 4,
   "metadata": {},
   "outputs": [],
   "source": [
    "import sys\n",
    "sys.path.append('../evapo_scripts/Auxiliary/')\n",
    "from helpsters import *"
   ]
  },
  {
   "cell_type": "code",
   "execution_count": 2,
   "metadata": {},
   "outputs": [],
   "source": [
    "# get rid of force output that is not needed -> months outside of growing season that do not exist in AI4Boundaries\n",
    "files = getFilelist('/data/Aldhani/eoagritwin/force/output/BRANDENBURG/', '.tif', deep=True)\n",
    "\n",
    "filesToKill = [f for f in files if int(f.split('-')[-1].split('.')[0]) not in [i for i in range(3,9,1)]]\n",
    "for file in filesToKill:\n",
    "    RasterKiller(file)\n",
    "\n",
    "files = list(filter(lambda item: item not in filesToKill, files))"
   ]
  },
  {
   "cell_type": "code",
   "execution_count": 26,
   "metadata": {},
   "outputs": [],
   "source": [
    "# bring files in list in order\n",
    "tiles = list(set([file.split('output/')[-1].split('/')[1].split('/')[0] for file in files]))\n",
    "tilefilesL = []\n",
    "for tile in tiles:\n",
    "    tilefiles = [file for file in files if tile in file]\n",
    "    tilefilesL.append(getBluGrnRedBnrFORCEList(tilefiles))\n",
    "\n",
    "# create stacked vrts of tiles\n",
    "sub = sum(tilefilesL, [])\n",
    "vrt = gdal.BuildVRT('/data/Aldhani/eoagritwin/fields/vector/' + getFORCExyRange(tiles) + '.vrt', sub, separate = True)\n",
    "vrt = None\n",
    "\n"
   ]
  },
  {
   "cell_type": "code",
   "execution_count": 27,
   "metadata": {},
   "outputs": [
    {
     "data": {
      "text/plain": [
       "'Force_X_from_68_to_69_Y_from_42_to_42.vrt'"
      ]
     },
     "execution_count": 27,
     "metadata": {},
     "output_type": "execute_result"
    }
   ],
   "source": [
    "getFORCExyRange(tiles) + '.vrt'"
   ]
  },
  {
   "cell_type": "code",
   "execution_count": 25,
   "metadata": {},
   "outputs": [
    {
     "data": {
      "text/plain": [
       "3000"
      ]
     },
     "execution_count": 25,
     "metadata": {},
     "output_type": "execute_result"
    }
   ],
   "source": [
    "aa.RasterYSize"
   ]
  },
  {
   "cell_type": "code",
   "execution_count": null,
   "metadata": {},
   "outputs": [
    {
     "name": "stderr",
     "output_type": "stream",
     "text": [
      "Warning 1: Can't open tile_1_1.tif. Skipping it\n",
      "Warning 1: Can't open tile_1_2.tif. Skipping it\n",
      "Warning 1: Can't open tile_1_3.tif. Skipping it\n",
      "Warning 1: Can't open tile_2_1.tif. Skipping it\n",
      "Warning 1: Can't open tile_2_2.tif. Skipping it\n",
      "Warning 1: Can't open tile_2_3.tif. Skipping it\n"
     ]
    }
   ],
   "source": []
  }
 ],
 "metadata": {
  "kernelspec": {
   "display_name": "evapo_sentinelhub",
   "language": "python",
   "name": "python3"
  },
  "language_info": {
   "codemirror_mode": {
    "name": "ipython",
    "version": 3
   },
   "file_extension": ".py",
   "mimetype": "text/x-python",
   "name": "python",
   "nbconvert_exporter": "python",
   "pygments_lexer": "ipython3",
   "version": "3.13.2"
  }
 },
 "nbformat": 4,
 "nbformat_minor": 2
}
