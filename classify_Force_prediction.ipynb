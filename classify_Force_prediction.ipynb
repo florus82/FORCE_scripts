{
 "cells": [
  {
   "cell_type": "code",
   "execution_count": 8,
   "metadata": {},
   "outputs": [
    {
     "ename": "ModuleNotFoundError",
     "evalue": "No module named 'higra'",
     "output_type": "error",
     "traceback": [
      "\u001b[0;31m---------------------------------------------------------------------------\u001b[0m",
      "\u001b[0;31mModuleNotFoundError\u001b[0m                       Traceback (most recent call last)",
      "Cell \u001b[0;32mIn[8], line 2\u001b[0m\n\u001b[1;32m      1\u001b[0m \u001b[38;5;28;01mimport\u001b[39;00m\u001b[38;5;250m \u001b[39m\u001b[38;5;21;01msys\u001b[39;00m\n\u001b[0;32m----> 2\u001b[0m \u001b[38;5;28;01mimport\u001b[39;00m\u001b[38;5;250m \u001b[39m\u001b[38;5;21;01mhigra\u001b[39;00m\u001b[38;5;250m \u001b[39m\u001b[38;5;28;01mas\u001b[39;00m\u001b[38;5;250m \u001b[39m\u001b[38;5;21;01mhg\u001b[39;00m\n\u001b[1;32m      3\u001b[0m sys\u001b[38;5;241m.\u001b[39mpath\u001b[38;5;241m.\u001b[39mappend(\u001b[38;5;124m'\u001b[39m\u001b[38;5;124m../evapo_scripts/Auxiliary/\u001b[39m\u001b[38;5;124m'\u001b[39m)\n\u001b[1;32m      4\u001b[0m \u001b[38;5;28;01mfrom\u001b[39;00m\u001b[38;5;250m \u001b[39m\u001b[38;5;21;01mhelpsters\u001b[39;00m\u001b[38;5;250m \u001b[39m\u001b[38;5;28;01mimport\u001b[39;00m \u001b[38;5;241m*\u001b[39m\n",
      "\u001b[0;31mModuleNotFoundError\u001b[0m: No module named 'higra'"
     ]
    }
   ],
   "source": [
    "import sys\n",
    "import higra as hg\n",
    "sys.path.append('../evapo_scripts/Auxiliary/')\n",
    "from helpsters import *"
   ]
  },
  {
   "cell_type": "code",
   "execution_count": 2,
   "metadata": {},
   "outputs": [],
   "source": [
    "# Function from https://github.com/waldnerf/decode/blob/main/postprocessing/instance_segmentation.py\n",
    "\n",
    "def InstSegm(extent, boundary, t_ext=0.4, t_bound=0.2):\n",
    "    \"\"\"\n",
    "    INPUTS:\n",
    "    extent : extent prediction\n",
    "    boundary : boundary prediction\n",
    "    t_ext : threshold for extent\n",
    "    t_bound : threshold for boundary\n",
    "    OUTPUT:\n",
    "    instances\n",
    "    \"\"\"\n",
    "\n",
    "    # Threshold extent mask\n",
    "    ext_binary = np.uint8(extent >= t_ext)\n",
    "\n",
    "    # Artificially create strong boundaries for\n",
    "    # pixels with non-field labels\n",
    "    input_hws = np.copy(boundary)\n",
    "    input_hws[ext_binary == 0] = 1\n",
    "\n",
    "    # Create the directed graph\n",
    "    size = input_hws.shape[:2]\n",
    "    graph = hg.get_8_adjacency_graph(size)\n",
    "    edge_weights = hg.weight_graph(\n",
    "        graph,\n",
    "        input_hws,\n",
    "        hg.WeightFunction.mean)\n",
    "\n",
    "    tree, altitudes = hg.watershed_hierarchy_by_dynamics(\n",
    "        graph,\n",
    "        edge_weights)\n",
    "\n",
    "    # Get individual fields\n",
    "    # by cutting the graph using altitude\n",
    "    instances = hg.labelisation_horizontal_cut_from_threshold(\n",
    "        tree,\n",
    "        altitudes,\n",
    "        threshold=t_bound).astype(float)\n",
    "\n",
    "    instances[ext_binary == 0] = np.nan\n",
    "\n",
    "    return instances"
   ]
  },
  {
   "cell_type": "code",
   "execution_count": 5,
   "metadata": {},
   "outputs": [
    {
     "ename": "NameError",
     "evalue": "name 'hg' is not defined",
     "output_type": "error",
     "traceback": [
      "\u001b[0;31m---------------------------------------------------------------------------\u001b[0m",
      "\u001b[0;31mNameError\u001b[0m                                 Traceback (most recent call last)",
      "Cell \u001b[0;32mIn[5], line 16\u001b[0m\n\u001b[1;32m     11\u001b[0m     bands\u001b[38;5;241m.\u001b[39mappend(ds\u001b[38;5;241m.\u001b[39mGetRasterBand(i\u001b[38;5;241m+\u001b[39m\u001b[38;5;241m1\u001b[39m)\u001b[38;5;241m.\u001b[39mReadAsArray())\n\u001b[1;32m     12\u001b[0m cube \u001b[38;5;241m=\u001b[39m np\u001b[38;5;241m.\u001b[39mdstack(bands)\n\u001b[0;32m---> 16\u001b[0m classified \u001b[38;5;241m=\u001b[39m \u001b[43mInstSegm\u001b[49m\u001b[43m(\u001b[49m\u001b[43mcube\u001b[49m\u001b[43m[\u001b[49m\u001b[38;5;241;43m0\u001b[39;49m\u001b[43m,\u001b[49m\u001b[43m:\u001b[49m\u001b[43m,\u001b[49m\u001b[43m:\u001b[49m\u001b[43m]\u001b[49m\u001b[43m,\u001b[49m\u001b[43m \u001b[49m\u001b[43mcube\u001b[49m\u001b[43m[\u001b[49m\u001b[38;5;241;43m1\u001b[39;49m\u001b[43m,\u001b[49m\u001b[43m:\u001b[49m\u001b[43m,\u001b[49m\u001b[43m:\u001b[49m\u001b[43m]\u001b[49m\u001b[43m,\u001b[49m\u001b[38;5;241;43m0.4\u001b[39;49m\u001b[43m,\u001b[49m\u001b[38;5;241;43m0.2\u001b[39;49m\u001b[43m)\u001b[49m\n\u001b[1;32m     18\u001b[0m \u001b[38;5;66;03m# def exportNPtoVRTextent(array, vrt):\u001b[39;00m\n\u001b[1;32m     19\u001b[0m \u001b[38;5;66;03m#     ''''''\u001b[39;00m\n\u001b[1;32m     20\u001b[0m \u001b[38;5;66;03m#     if type(vrt) == osgeo.gdal.Dataset:\u001b[39;00m\n\u001b[0;32m   (...)\u001b[0m\n\u001b[1;32m     34\u001b[0m \u001b[38;5;66;03m#     out_ds.GetRasterBand(1).SetDescription(bandname)\u001b[39;00m\n\u001b[1;32m     35\u001b[0m \u001b[38;5;66;03m#     del out_ds\u001b[39;00m\n",
      "Cell \u001b[0;32mIn[2], line 24\u001b[0m, in \u001b[0;36mInstSegm\u001b[0;34m(extent, boundary, t_ext, t_bound)\u001b[0m\n\u001b[1;32m     22\u001b[0m \u001b[38;5;66;03m# Create the directed graph\u001b[39;00m\n\u001b[1;32m     23\u001b[0m size \u001b[38;5;241m=\u001b[39m input_hws\u001b[38;5;241m.\u001b[39mshape[:\u001b[38;5;241m2\u001b[39m]\n\u001b[0;32m---> 24\u001b[0m graph \u001b[38;5;241m=\u001b[39m \u001b[43mhg\u001b[49m\u001b[38;5;241m.\u001b[39mget_8_adjacency_graph(size)\n\u001b[1;32m     25\u001b[0m edge_weights \u001b[38;5;241m=\u001b[39m hg\u001b[38;5;241m.\u001b[39mweight_graph(\n\u001b[1;32m     26\u001b[0m     graph,\n\u001b[1;32m     27\u001b[0m     input_hws,\n\u001b[1;32m     28\u001b[0m     hg\u001b[38;5;241m.\u001b[39mWeightFunction\u001b[38;5;241m.\u001b[39mmean)\n\u001b[1;32m     30\u001b[0m tree, altitudes \u001b[38;5;241m=\u001b[39m hg\u001b[38;5;241m.\u001b[39mwatershed_hierarchy_by_dynamics(\n\u001b[1;32m     31\u001b[0m     graph,\n\u001b[1;32m     32\u001b[0m     edge_weights)\n",
      "\u001b[0;31mNameError\u001b[0m: name 'hg' is not defined"
     ]
    }
   ],
   "source": [
    "# load masked and unmasked .vrt files and run InstSegm algorythm\n",
    "\n",
    "paths = ['/data/Aldhani/eoagritwin/fields/output/predictions/FORCE/vrt/chipsvrt.vrt',\n",
    "         '/data/Aldhani/eoagritwin/fields/output/predictions/FORCE/vrt/masked_chipsvrt.vrt']\n",
    "\n",
    "\n",
    "ds = gdal.Open(paths[0])\n",
    "bandNumber = ds.RasterCount\n",
    "bands = []\n",
    "for i in range(bandNumber):\n",
    "    bands.append(ds.GetRasterBand(i+1).ReadAsArray())\n",
    "cube = np.dstack(bands)\n",
    "\n",
    "\n",
    "\n",
    "classified = InstSegm(cube[0,:,:], cube[1,:,:],0.4,0.2)\n",
    "\n",
    "# def exportNPtoVRTextent(array, vrt):\n",
    "#     ''''''\n",
    "#     if type(vrt) == osgeo.gdal.Dataset:\n",
    "#         continue\n",
    "#     else:\n",
    "#         vrt = gdal.Open(vrt)\n",
    " \n",
    "#     gtiff_driver = gdal.GetDriverByName('GTiff')\n",
    "    \n",
    "\n",
    "\n",
    "#     out_ds = gtiff_driver.Create(storPath + fileName, numberOfXpixels, numberOfYpixels, 1, gdal.GDT_Int32)\n",
    "#     out_ds.SetGeoTransform(getGeoTransFromNC(ncfile))\n",
    "#     out_ds.SetProjection(getCRS_WKTfromNC(ncfile))\n",
    "#     out_ds.GetRasterBand(1).WriteArray(arr)\n",
    "\n",
    "#     out_ds.GetRasterBand(1).SetDescription(bandname)\n",
    "#     del out_ds\n",
    "\n",
    "\n",
    "\n"
   ]
  },
  {
   "cell_type": "code",
   "execution_count": 4,
   "metadata": {},
   "outputs": [
    {
     "data": {
      "text/plain": [
       "osgeo.gdal.Dataset"
      ]
     },
     "execution_count": 4,
     "metadata": {},
     "output_type": "execute_result"
    }
   ],
   "source": [
    "type(ds)"
   ]
  }
 ],
 "metadata": {
  "kernelspec": {
   "display_name": "evapo_sentinelhub",
   "language": "python",
   "name": "python3"
  },
  "language_info": {
   "codemirror_mode": {
    "name": "ipython",
    "version": 3
   },
   "file_extension": ".py",
   "mimetype": "text/x-python",
   "name": "python",
   "nbconvert_exporter": "python",
   "pygments_lexer": "ipython3",
   "version": "3.13.2"
  }
 },
 "nbformat": 4,
 "nbformat_minor": 2
}
