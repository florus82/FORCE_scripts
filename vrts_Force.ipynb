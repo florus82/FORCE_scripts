{
 "cells": [
  {
   "cell_type": "code",
   "execution_count": null,
   "metadata": {},
   "outputs": [],
   "source": [
    "import sys\n",
    "sys.path.append('../evapo_scripts/Auxiliary/')\n",
    "from helpsters import *"
   ]
  },
  {
   "cell_type": "code",
   "execution_count": null,
   "metadata": {},
   "outputs": [],
   "source": [
    "# workaround with relative path mess from containers\n",
    "os.chdir('/data/Aldhani/eoagritwin/')\n",
    "# get rid of force output that is not needed -> months outside of growing season that do not exist in AI4Boundaries\n",
    "files = getFilelist('force/output/BRANDENBURG/', '.tif', deep=True)\n",
    "\n",
    "filesToKill = [f for f in files if int(f.split('-')[-1].split('.')[0]) not in [i for i in range(3,9,1)]]\n",
    "for file in filesToKill:\n",
    "    RasterKiller(file)\n",
    "\n",
    "files = list(filter(lambda item: item not in filesToKill, files))"
   ]
  },
  {
   "cell_type": "code",
   "execution_count": 29,
   "metadata": {},
   "outputs": [],
   "source": [
    "# bring files in list in order\n",
    "tiles = list(set([file.split('output/')[-1].split('/')[1].split('/')[0] for file in files]))\n",
    "tilefilesL = []\n",
    "for tile in tiles:\n",
    "    tilefiles = [file for file in files if tile in file]\n",
    "    tilefilesL.append(getBluGrnRedBnrFORCEList(tilefiles))\n",
    "\n",
    "# create stacked vrts of tiles\n",
    "# make folder for tiles\n",
    "outDir = f'fields/Auxiliary/vrt/'#{getFORCExyRange(tiles)}/'\n",
    "os.makedirs(outDir, exist_ok=True)\n",
    "\n",
    "for i in range(len(tilefilesL[0])):\n",
    "    vrt = gdal.BuildVRT(f'{outDir}{getFORCExyRange(tiles)}_{str(i)}.vrt', [tilefilesL[0][i], tilefilesL[1][i]], separate = False)\n",
    "    vrt = None\n",
    "\n",
    "vrts = getFilelist(outDir, '.vrt')\n",
    "nums = [int(vrt.split('_')[-1].split('.')[0]) for vrt in vrts]\n",
    "vrts_sorted = sortListwithOtherlist(nums, vrts)\n",
    "\n",
    "vrt = gdal.BuildVRT(f'{outDir}{getFORCExyRange(tiles)}_Cube.vrt', vrts_sorted, separate = True)\n",
    "vrt = None\n",
    "\n",
    "# clean up 1d vrts\n",
    "for vrt in vrts:\n",
    "    RasterKiller(vrt)"
   ]
  },
  {
   "cell_type": "code",
   "execution_count": 30,
   "metadata": {},
   "outputs": [],
   "source": [
    "# make vrt of predicted image chips\n",
    "chips = getFilelist('/data/Aldhani/eoagritwin/fields/output/predictions/FORCE/chips/', '.tif')\n",
    "\n",
    "# create stacked vrts of chips\n",
    "vrt = gdal.BuildVRT('/data/Aldhani/eoagritwin/fields/output/predictions/FORCE/vrt/chipsvrt.vrt', chips, separate = False)\n",
    "vrt = None\n"
   ]
  },
  {
   "cell_type": "code",
   "execution_count": 31,
   "metadata": {},
   "outputs": [],
   "source": [
    "# make vrt of masked predicted image chips\n",
    "chips = getFilelist('/data/Aldhani/eoagritwin/fields/output/predictions/FORCE/masked_chips/', '.tif')\n",
    "\n",
    "# create stacked vrts of masked chips\n",
    "vrt = gdal.BuildVRT('/data/Aldhani/eoagritwin/fields/output/predictions/FORCE/vrt/masked_chipsvrt.vrt', chips, separate = False)\n",
    "vrt = None\n"
   ]
  },
  {
   "cell_type": "code",
   "execution_count": null,
   "metadata": {},
   "outputs": [],
   "source": []
  }
 ],
 "metadata": {
  "kernelspec": {
   "display_name": "evapo_sentinelhub",
   "language": "python",
   "name": "python3"
  },
  "language_info": {
   "codemirror_mode": {
    "name": "ipython",
    "version": 3
   },
   "file_extension": ".py",
   "mimetype": "text/x-python",
   "name": "python",
   "nbconvert_exporter": "python",
   "pygments_lexer": "ipython3",
   "version": "3.13.2"
  }
 },
 "nbformat": 4,
 "nbformat_minor": 2
}
